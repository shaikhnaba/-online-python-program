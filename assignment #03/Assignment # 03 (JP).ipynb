{
 "cells": [
  {
   "cell_type": "markdown",
   "id": "619045a4",
   "metadata": {},
   "source": [
    "## Assignment 03 (JP)\n",
    "## Q:01 "
   ]
  },
  {
   "cell_type": "code",
   "execution_count": 80,
   "id": "9bfd1041",
   "metadata": {},
   "outputs": [
    {
     "name": "stdout",
     "output_type": "stream",
     "text": [
      "Twinkle, twinkle, little star,\n",
      "         How i Wonder what you are\n",
      "                 Up above the world so high,\n",
      "                 Like a diamond in the sky.\n",
      "Twinkle, twinkle, little star,\n",
      "         How i Wonder what you are\n"
     ]
    }
   ],
   "source": [
    "print('Twinkle, twinkle, little star,')\n",
    "print('         How i Wonder what you are')\n",
    "print('                 Up above the world so high,')\n",
    "print('                 Like a diamond in the sky.')\n",
    "print('Twinkle, twinkle, little star,')\n",
    "print('         How i Wonder what you are')"
   ]
  },
  {
   "cell_type": "markdown",
   "id": "2bf86baf",
   "metadata": {},
   "source": [
    "## Q:02 "
   ]
  },
  {
   "cell_type": "code",
   "execution_count": 81,
   "id": "23ec1a61",
   "metadata": {},
   "outputs": [
    {
     "name": "stdout",
     "output_type": "stream",
     "text": [
      "3.8.8 (default, Apr 13 2021, 15:08:03) [MSC v.1916 64 bit (AMD64)]\n"
     ]
    }
   ],
   "source": [
    "import sys\n",
    "print(sys.version)"
   ]
  },
  {
   "cell_type": "markdown",
   "id": "a08e46c3",
   "metadata": {},
   "source": [
    "## Q:03 "
   ]
  },
  {
   "cell_type": "code",
   "execution_count": 82,
   "id": "22556d81",
   "metadata": {},
   "outputs": [
    {
     "name": "stdout",
     "output_type": "stream",
     "text": [
      "current_datetime: 2021-10-23 21:18:47.501609\n"
     ]
    }
   ],
   "source": [
    "from datetime import datetime\n",
    "\n",
    "\n",
    "current_datetime =datetime.now()\n",
    "print(\"current_datetime:\", current_datetime)\n"
   ]
  },
  {
   "cell_type": "markdown",
   "id": "f9233d8f",
   "metadata": {},
   "source": [
    "## Q:04 "
   ]
  },
  {
   "cell_type": "code",
   "execution_count": 84,
   "id": "7023e2e0",
   "metadata": {},
   "outputs": [
    {
     "name": "stdout",
     "output_type": "stream",
     "text": [
      "radius of a circle:0.56\n",
      "area of a circle: 1.0935884027146068\n"
     ]
    }
   ],
   "source": [
    "r = float(input('radius of a circle:'))\n",
    "\n",
    "frml = math.pi* r **2   #pi=22/7\n",
    "print('area of a circle:' , form) "
   ]
  },
  {
   "cell_type": "markdown",
   "id": "2babd9a5",
   "metadata": {},
   "source": [
    "## Q:05 "
   ]
  },
  {
   "cell_type": "code",
   "execution_count": 85,
   "id": "3db6279a",
   "metadata": {},
   "outputs": [
    {
     "name": "stdout",
     "output_type": "stream",
     "text": [
      "first name: naba\n",
      "last name: hassan\n",
      "name: hassan naba\n"
     ]
    }
   ],
   "source": [
    "name_1 = input('first name: ') \n",
    "name_2 = input('last name: ')\n",
    "print('name:' , name_2 + ' ' + name_1)"
   ]
  },
  {
   "cell_type": "markdown",
   "id": "4af82bbd",
   "metadata": {},
   "source": [
    "## Q:06 "
   ]
  },
  {
   "cell_type": "code",
   "execution_count": 86,
   "id": "f264ed0c",
   "metadata": {
    "scrolled": true
   },
   "outputs": [
    {
     "name": "stdout",
     "output_type": "stream",
     "text": [
      "34\n",
      "66\n",
      "addition: 100\n"
     ]
    }
   ],
   "source": [
    "n1=int(input( ))\n",
    "n2=int(input( ))\n",
    "print('addition:' , n1+n2)"
   ]
  },
  {
   "cell_type": "markdown",
   "id": "3314ba6e",
   "metadata": {},
   "source": [
    "## Q:07 "
   ]
  },
  {
   "cell_type": "code",
   "execution_count": null,
   "id": "7d445708",
   "metadata": {},
   "outputs": [],
   "source": [
    "a =int(input( 'marks of math: ' ))\n",
    "b=int(input( 'marks of physics: ' ))\n",
    "c=int(input( 'marks of chemistry:' ))\n",
    "d=int(input( 'marks of islamiat: ' ))\n",
    "e=int(input( 'marks of computer: ' ))\n",
    "total_marks=500\n",
    "obtained_marks= a+b+c+d+e\n",
    "percentage = obtained_marks / total_marks *100 \n",
    "print('obtained_marks:',obtained_marks)\n",
    "print('percentage:',percentage)\n",
    "\n",
    "if percentage <100 and percentage > 80:\n",
    "    print('Grade A+')\n",
    "elif percentage <100 and percentage > 70:\n",
    "    print('Grade A')\n",
    "elif percentage <100 and percentage > 60:\n",
    "    print('Grade B')\n",
    "else:\n",
    "    print('Fail')\n"
   ]
  },
  {
   "cell_type": "markdown",
   "id": "4a66371d",
   "metadata": {},
   "source": [
    "## Q:08"
   ]
  },
  {
   "cell_type": "code",
   "execution_count": null,
   "id": "e5f31227",
   "metadata": {},
   "outputs": [],
   "source": [
    "n = int(input('any number:'))\n",
    "if n % 2 ==0:\n",
    "    print('even number')\n",
    "else:\n",
    "    print('odd number')"
   ]
  },
  {
   "cell_type": "markdown",
   "id": "e0f12a30",
   "metadata": {},
   "source": [
    "## Q:09"
   ]
  },
  {
   "cell_type": "code",
   "execution_count": null,
   "id": "b022365f",
   "metadata": {},
   "outputs": [],
   "source": [
    "a = [1,1,2,3,5,8,13,21,34,55,89]\n",
    "print('length of the list:' , len(a))"
   ]
  },
  {
   "cell_type": "markdown",
   "id": "afea95ca",
   "metadata": {},
   "source": [
    "## Q:10"
   ]
  },
  {
   "cell_type": "code",
   "execution_count": null,
   "id": "e6cd55a1",
   "metadata": {},
   "outputs": [],
   "source": [
    "a = [1,1,2,3,5,8,13,21,34,55,89]\n",
    "print('addition of all numeric values:' , sum(a))"
   ]
  },
  {
   "cell_type": "markdown",
   "id": "23763903",
   "metadata": {},
   "source": [
    "## Q:11"
   ]
  },
  {
   "cell_type": "code",
   "execution_count": null,
   "id": "67d93898",
   "metadata": {},
   "outputs": [],
   "source": [
    "a = [1,1,2,3,5,8,13,21,34,55,89]\n",
    "print('largest number of the list:' , max(a))"
   ]
  },
  {
   "cell_type": "markdown",
   "id": "10af3624",
   "metadata": {},
   "source": [
    "## Q:12 "
   ]
  },
  {
   "cell_type": "code",
   "execution_count": null,
   "id": "62f691a4",
   "metadata": {},
   "outputs": [],
   "source": [
    "a = [1,1,2,3,5,8,13,21,34,55,89]\n",
    "print(a[0:4])"
   ]
  },
  {
   "cell_type": "code",
   "execution_count": null,
   "id": "dd870829",
   "metadata": {},
   "outputs": [],
   "source": []
  }
 ],
 "metadata": {
  "kernelspec": {
   "display_name": "Python 3",
   "language": "python",
   "name": "python3"
  },
  "language_info": {
   "codemirror_mode": {
    "name": "ipython",
    "version": 3
   },
   "file_extension": ".py",
   "mimetype": "text/x-python",
   "name": "python",
   "nbconvert_exporter": "python",
   "pygments_lexer": "ipython3",
   "version": "3.8.8"
  }
 },
 "nbformat": 4,
 "nbformat_minor": 5
}
