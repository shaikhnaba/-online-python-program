{
 "cells": [
  {
   "cell_type": "markdown",
   "id": "58598f38",
   "metadata": {},
   "source": [
    "## Q : 01 (1st method)"
   ]
  },
  {
   "cell_type": "code",
   "execution_count": 72,
   "id": "80c2186d",
   "metadata": {},
   "outputs": [
    {
     "name": "stdout",
     "output_type": "stream",
     "text": [
      "the result od addition is: 7\n",
      "the result od subtraction is: -1\n",
      "the result od multiplication is: 12\n",
      "the result od division is: 0.75\n",
      "the result od power is: 81\n"
     ]
    }
   ],
   "source": [
    "def calculator(x,y):    \n",
    "    oper_1 = x+y\n",
    "    oper_2 = x-y\n",
    "    oper_3 = x*y\n",
    "    oper_4 = x/y\n",
    "    oper_5 = x**y\n",
    "    print('the result od addition is:', oper_1)\n",
    "    print('the result od subtraction is:', oper_2)\n",
    "    print('the result od multiplication is:', oper_3)\n",
    "    print('the result od division is:', oper_4)\n",
    "    print('the result od power is:', oper_5)\n",
    "calculator(3,4)    "
   ]
  },
  {
   "cell_type": "markdown",
   "id": "6b6e0110",
   "metadata": {},
   "source": [
    "## 2nd method"
   ]
  },
  {
   "cell_type": "code",
   "execution_count": 71,
   "id": "946b1c99",
   "metadata": {},
   "outputs": [
    {
     "data": {
      "text/plain": [
       "(7, -1, 12, 0.75, 81)"
      ]
     },
     "execution_count": 71,
     "metadata": {},
     "output_type": "execute_result"
    }
   ],
   "source": [
    "def calculator(x,y):\n",
    "    return x+y, x-y, x*y, x/y, x**y\n",
    "calculator(3,4)"
   ]
  },
  {
   "cell_type": "markdown",
   "id": "7dadcdfd",
   "metadata": {},
   "source": [
    "## Q : 03"
   ]
  },
  {
   "cell_type": "code",
   "execution_count": 73,
   "id": "84e1e284",
   "metadata": {},
   "outputs": [
    {
     "data": {
      "text/plain": [
       "{'naba': 88, 'hamza': 77, 'asim': 66, 'moiz': 99, 'ahmed': 55, 'zeeshan': 55}"
      ]
     },
     "execution_count": 73,
     "metadata": {},
     "output_type": "execute_result"
    }
   ],
   "source": [
    "dic = {'naba':88,'hamza':77,'asim':66,'moiz':99,'ahmed':55}\n",
    "dic['zeeshan']=55\n",
    "dic"
   ]
  },
  {
   "cell_type": "markdown",
   "id": "5b4a37e1",
   "metadata": {},
   "source": [
    "## Q : 04"
   ]
  },
  {
   "cell_type": "code",
   "execution_count": 74,
   "id": "01f26d70",
   "metadata": {},
   "outputs": [
    {
     "name": "stdout",
     "output_type": "stream",
     "text": [
      "440\n"
     ]
    }
   ],
   "source": [
    "a={'naba': 88, 'hamza': 77, 'asim': 66, 'moiz': 99, 'ahmed': 55, 'zeeshan': 55}\n",
    "print(sum(a.values()))"
   ]
  },
  {
   "cell_type": "markdown",
   "id": "83b5b25f",
   "metadata": {},
   "source": [
    "## Q :05"
   ]
  },
  {
   "cell_type": "code",
   "execution_count": 75,
   "id": "4a248704",
   "metadata": {},
   "outputs": [
    {
     "name": "stdout",
     "output_type": "stream",
     "text": [
      "[4, 4, 6, 6, 6]\n"
     ]
    }
   ],
   "source": [
    "lst = [4,5,4,6,7,6,6,10,2,]\n",
    "duplicate = []\n",
    "for i in lst:\n",
    "    if lst.count(i) > 1:\n",
    "        duplicate.append(i)\n",
    "print(duplicate)\n",
    "        "
   ]
  },
  {
   "cell_type": "markdown",
   "id": "852cad38",
   "metadata": {},
   "source": [
    "## Q :06 (1st method)"
   ]
  },
  {
   "cell_type": "code",
   "execution_count": 76,
   "id": "03c00bc3",
   "metadata": {},
   "outputs": [
    {
     "name": "stdout",
     "output_type": "stream",
     "text": [
      "key already exist in dictionary\n",
      "key is not exisr in dictionary\n"
     ]
    }
   ],
   "source": [
    "dic={'naba': 88, 'hamza': 77, 'asim': 66, 'moiz': 99, 'ahmed': 55, 'zeeshan': 55}\n",
    "\n",
    "def check_the_key(x):\n",
    "    if x in dic:\n",
    "        print('key already exist in dictionary')\n",
    "    else:\n",
    "        print('key is not exisr in dictionary')\n",
    "check_the_key('naba')  \n",
    "check_the_key('aslam')"
   ]
  },
  {
   "cell_type": "markdown",
   "id": "28c8e9b7",
   "metadata": {},
   "source": [
    "## 2nd method"
   ]
  },
  {
   "cell_type": "code",
   "execution_count": 77,
   "id": "ae3995b5",
   "metadata": {},
   "outputs": [
    {
     "name": "stdout",
     "output_type": "stream",
     "text": [
      "enter a key :sameen\n",
      "enter a number :75\n",
      "add new key & value in dictionary : {'naba': 88, 'hamza': 77, 'asim': 66, 'moiz': 99, 'ahmed': 55, 'zeeshan': 55, 'sameen': 75}\n"
     ]
    }
   ],
   "source": [
    "dic = {'naba': 88, 'hamza': 77, 'asim': 66, 'moiz': 99, 'ahmed': 55, 'zeeshan': 55}\n",
    "n = str(input('enter a key :'))\n",
    "if n in dic:\n",
    "    print('key already exist in dictionary')\n",
    "else:\n",
    "    o = int(input('enter a number :'))\n",
    "    dic[n]=o\n",
    "    print('add new key & value in dictionary :',dic)"
   ]
  },
  {
   "cell_type": "code",
   "execution_count": null,
   "id": "afcb0f6b",
   "metadata": {},
   "outputs": [],
   "source": []
  }
 ],
 "metadata": {
  "kernelspec": {
   "display_name": "Python 3",
   "language": "python",
   "name": "python3"
  },
  "language_info": {
   "codemirror_mode": {
    "name": "ipython",
    "version": 3
   },
   "file_extension": ".py",
   "mimetype": "text/x-python",
   "name": "python",
   "nbconvert_exporter": "python",
   "pygments_lexer": "ipython3",
   "version": "3.8.8"
  }
 },
 "nbformat": 4,
 "nbformat_minor": 5
}
